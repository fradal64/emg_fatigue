{
 "cells": [
  {
   "cell_type": "code",
   "execution_count": null,
   "metadata": {},
   "outputs": [],
   "source": [
    "from emg_fatigue.utils.load_emg_data import load_all_participant_data\n",
    "from emg_fatigue.utils.process_emg_data import process_all_participant_data\n",
    "from emg_fatigue.utils.create_loocv_dataset import create_loocv_dataset\n",
    "from emg_fatigue.modeling.train import train_model\n",
    "from emg_fatigue.modeling.evaluate import evaluate_model\n",
    "from emg_fatigue.modeling.build.rnn_model import build_lstm_model\n",
    "from emg_fatigue.plots.visualize_model_predictions import visualize_model_predictions\n",
    "from emg_fatigue.config import BATCH_SIZE, PADDING_VALUE"
   ]
  },
  {
   "cell_type": "code",
   "execution_count": null,
   "metadata": {},
   "outputs": [],
   "source": [
    "raw_data = load_all_participant_data()\n",
    "processed_data = process_all_participant_data(raw_data)\n",
    "\n",
    "\n",
    "# --- Create LOO-CV Datasets ---\n",
    "all_participant_ids = list(processed_data.keys())\n",
    "train_ids = all_participant_ids[:-3] \n",
    "val_ids = all_participant_ids[-3:-1]\n",
    "test_ids = [all_participant_ids[-1]]\n",
    "\n",
    "train_ds, val_ds, test_ds, input_shape, output_shape, norm_mean, norm_std = create_loocv_dataset(\n",
    "    processed_data,\n",
    "    train_participant_ids=train_ids,\n",
    "    validation_participant_ids=val_ids,\n",
    "    test_participant_ids=test_ids,\n",
    "    batch_size=BATCH_SIZE,\n",
    "    padding_value=PADDING_VALUE,\n",
    "    normalize=True\n",
    ")\n",
    "\n"
   ]
  },
  {
   "cell_type": "code",
   "execution_count": null,
   "metadata": {},
   "outputs": [],
   "source": [
    "lstm_model = build_lstm_model(input_shape, output_shape, padding_value=PADDING_VALUE)\n",
    "\n",
    "model_name = \"lstm_fatigue_model\"\n",
    "train_model(lstm_model, train_ds, val_ds, model_name, epochs=100)\n",
    "evaluate_model(lstm_model, test_ds, model_name)"
   ]
  },
  {
   "cell_type": "code",
   "execution_count": null,
   "metadata": {},
   "outputs": [],
   "source": [
    "visualize_model_predictions(\n",
    "    model=lstm_model,\n",
    "    processed_data=processed_data,\n",
    "    test_participant_ids=test_ids,\n",
    "    input_shape=input_shape,\n",
    "    norm_mean=norm_mean,\n",
    "    norm_std=norm_std\n",
    ")"
   ]
  }
 ],
 "metadata": {
  "kernelspec": {
   "display_name": "emg-fatigue-YbMeuwX9-py3.12",
   "language": "python",
   "name": "python3"
  },
  "language_info": {
   "codemirror_mode": {
    "name": "ipython",
    "version": 3
   },
   "file_extension": ".py",
   "mimetype": "text/x-python",
   "name": "python",
   "nbconvert_exporter": "python",
   "pygments_lexer": "ipython3",
   "version": "3.12.3"
  }
 },
 "nbformat": 4,
 "nbformat_minor": 2
}
